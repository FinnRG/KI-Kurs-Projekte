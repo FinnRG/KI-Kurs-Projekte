{
 "cells": [
  {
   "cell_type": "markdown",
   "metadata": {
    "id": "M5x7SMmo4D9m"
   },
   "source": [
    "# MNIST-Datensatz\n",
    "Der MNIST-Datensatz (Modified National Institute of Standards and Technology) ist ein berühmter Datensatz in der Welt der maschinellen Lernens. Er besteht aus handgeschriebenen Ziffern, die in einem Bildformat von 28x28 Pixeln gespeichert sind. Der Datensatz ist ideal, um grundlegende Klassifikationsaufgaben zu üben und zu verstehen, wie neuronale Netzwerke funktionieren. In dieser Analyse werden wir den MNIST-Datensatz laden, untersuchen, visualisieren und schließlich ein Mehrschichtiges Perzeptron (MLP) trainieren, um die Ziffern zu klassifizieren."
   ]
  },
  {
   "cell_type": "markdown",
   "metadata": {
    "id": "EzRTKcaB4Mdw"
   },
   "source": [
    "## Notwendige Bibliotheken\n",
    "Zuerst installieren wir die schon bekannten Bibliotheken `scikit-learn`, `pandas`, etc."
   ]
  },
  {
   "cell_type": "code",
   "execution_count": null,
   "metadata": {
    "id": "C647WK3J4aUz"
   },
   "outputs": [],
   "source": [
    "%pip install matplotlib seaborn pandas scikit-learn numpy"
   ]
  },
  {
   "cell_type": "markdown",
   "metadata": {
    "id": "Mtd9kgqW4Ju9"
   },
   "source": [
    "## Laden der Daten\n"
   ]
  },
  {
   "cell_type": "markdown",
   "metadata": {
    "id": "ZmcobXe24hlj"
   },
   "source": [
    "Zunächst müssen wir die notwendigen Bibliotheken importieren und den MNIST-Datensatz laden. Wir verwenden dafür `scikit-learn`."
   ]
  },
  {
   "cell_type": "code",
   "execution_count": null,
   "metadata": {
    "colab": {
     "base_uri": "https://localhost:8080/"
    },
    "id": "CnG3wGAt4fFD",
    "outputId": "4490e507-20db-4ede-ba59-91d074611721"
   },
   "outputs": [],
   "source": [
    "import numpy as np\n",
    "import matplotlib.pyplot as plt\n",
    "from sklearn.datasets import fetch_openml\n",
    "from sklearn.model_selection import train_test_split\n",
    "from sklearn.neural_network import MLPClassifier\n",
    "from sklearn.metrics import classification_report, confusion_matrix\n",
    "import seaborn as sns\n",
    "\n",
    "# MNIST-Datensatz laden\n",
    "mnist = fetch_openml('mnist_784')\n",
    "X, y = mnist['data'][:5000], mnist['target'][:5000].astype(int)\n",
    "\n",
    "# Daten aufteilen\n",
    "X_train, X_test, y_train, y_test = train_test_split(X, y, test_size=0.2, random_state=42)"
   ]
  },
  {
   "cell_type": "markdown",
   "metadata": {
    "id": "HVojhIjD4o1P"
   },
   "source": [
    "## Analyse des Datensatzes\n",
    "Der MNIST-Datensatz besteht aus 70.000 Bildern von handgeschriebenen Ziffern, wobei 60.000 Bilder für das Training und 10.000 Bilder für das Testen verwendet werden. Jedes Bild ist 28x28 Pixel groß, also 784 Pixel insgesamt.\n",
    "\n",
    "Wir können die Dimensionen der Trainings- und Testdaten wie folgt überprüfen:\n",
    "\n",
    "**Aufgabe:** Wie viele Neuronen hat die Eigabeschicht, basierend auf der Ausgabe dieser Zelle."
   ]
  },
  {
   "cell_type": "code",
   "execution_count": null,
   "metadata": {
    "colab": {
     "base_uri": "https://localhost:8080/"
    },
    "id": "hEXIO8024rTd",
    "outputId": "529cc9c6-5b97-4688-aa27-faae114d786d"
   },
   "outputs": [],
   "source": [
    "anzahl_bilder_training = X_train.shape[0]\n",
    "anzahl_training_pixel = X_train.shape[1]\n",
    "anzahl_bilder_test = X_test.shape[0]\n",
    "anzahl_test_pixel = X_test.shape[1]\n",
    "print(f\"Trainingsdaten: {anzahl_bilder_training} Bilder, jedes Bild hat {anzahl_training_pixel} Pixel\")\n",
    "print(f\"Testdaten: {anzahl_bilder_test} Bilder, jedes Bild hat {anzahl_test_pixel} Pixel\")"
   ]
  },
  {
   "cell_type": "markdown",
   "metadata": {
    "id": "BYSJOza745us"
   },
   "source": [
    "Um ein besseres Verständnis für die Daten zu bekommen, ist es hilfreich, einige Bilder zu visualisieren. Dazu verwenden wir `matplotlib`."
   ]
  },
  {
   "cell_type": "code",
   "execution_count": null,
   "metadata": {
    "colab": {
     "base_uri": "https://localhost:8080/",
     "height": 125
    },
    "id": "s6DTcy-l47x1",
    "outputId": "e7b786fc-2bef-423c-fd9f-d29dd642622a"
   },
   "outputs": [],
   "source": [
    "# Funktion zum Anzeigen von Bildern\n",
    "def plot_images(images, labels, num_images=10):\n",
    "    plt.figure(figsize=(10, 2))\n",
    "    for i in range(num_images):\n",
    "        plt.subplot(1, num_images, i + 1)\n",
    "        plt.imshow(images[i].reshape(28, 28), cmap=\"gray\")\n",
    "        plt.title(labels[i])\n",
    "        plt.axis('off')\n",
    "    plt.show()\n",
    "\n",
    "# Zeige einige Bilder\n",
    "plot_images(X_train.to_numpy(), y_train.to_numpy())"
   ]
  },
  {
   "cell_type": "markdown",
   "metadata": {
    "id": "tf2vrSAw6nZD"
   },
   "source": [
    "Zunächst betrachten wir die Verteilung der verschiedenen Ziffern im Datensatz. Dies gibt uns einen Überblick darüber, ob der Datensatz ausgewogen ist oder ob bestimmte Ziffern häufiger vorkommen.\n",
    "\n",
    "**Aufgabe**: Analysiere die Verteilung der Ziffern im Trainingsdatensatz\n",
    "- Was fällt dir auf?\n",
    "- Können wir den gegebenen Datensatz nutzen um eine KI zu trainieren?"
   ]
  },
  {
   "cell_type": "code",
   "execution_count": null,
   "metadata": {
    "colab": {
     "base_uri": "https://localhost:8080/",
     "height": 559
    },
    "id": "V1Kv3Zxd6c5r",
    "outputId": "bb38dd2e-27f1-4329-d832-14fe63b4dff0"
   },
   "outputs": [],
   "source": [
    "# Zählung der Klassen\n",
    "sns.countplot(x=y_train, palette=\"viridis\")\n",
    "plt.title(\"Verteilung der Ziffern im Trainingsdatensatz\")\n",
    "plt.xlabel(\"Ziffern\")\n",
    "plt.ylabel(\"Anzahl\")\n",
    "plt.show()"
   ]
  },
  {
   "cell_type": "markdown",
   "metadata": {
    "id": "9qdGvM0n7IRD"
   },
   "source": [
    "Wir können die durchschnittlichen Bilder jeder Ziffer berechnen und visualisieren, um zu sehen, ob es charakteristische Muster gibt."
   ]
  },
  {
   "cell_type": "code",
   "execution_count": null,
   "metadata": {
    "colab": {
     "base_uri": "https://localhost:8080/",
     "height": 360
    },
    "id": "qJH62pbI6ipA",
    "outputId": "adc9ab3a-9055-4062-bc95-84d705918e6e"
   },
   "outputs": [],
   "source": [
    "# Durchschnittliche Bilder pro Ziffer berechnen\n",
    "average_images = np.zeros((10, 784))\n",
    "for i in range(10):\n",
    "    average_images[i] = X_train[y_train == i].mean(axis=0)\n",
    "\n",
    "# Funktion zum Anzeigen der durchschnittlichen Bilder\n",
    "def plot_average_images(images):\n",
    "    plt.figure(figsize=(10, 4))\n",
    "    for i in range(10):\n",
    "        plt.subplot(2, 5, i + 1)\n",
    "        plt.imshow(images[i].reshape(28, 28), cmap='gray')\n",
    "        plt.title(f'Ziffer {i}')\n",
    "        plt.axis('off')\n",
    "    plt.show()\n",
    "\n",
    "# Zeige durchschnittliche Bilder\n",
    "plot_average_images(average_images)"
   ]
  },
  {
   "cell_type": "markdown",
   "metadata": {
    "id": "3t9OTht35fbz"
   },
   "source": [
    "## Trainierung eines MLP Modells\n",
    "Nun trainieren wir ein Mehrschichtiges Perzeptron (MLP), um die Ziffern zu klassifizieren. Ein MLP ist ein neuronales Netzwerk mit mehreren Schichten, das zur Klassifizierung von Bildern verwendet wird.\n",
    "\n",
    "Wir verwenden zuerst ein MLP mit 2 hidden layers mit jeweils 64 und 32 Neuronen."
   ]
  },
  {
   "cell_type": "code",
   "execution_count": null,
   "metadata": {
    "colab": {
     "base_uri": "https://localhost:8080/",
     "height": 854
    },
    "id": "TGW1hqyk5yuI",
    "outputId": "d96e7eb1-2088-4122-c6ee-8c7a8015da07"
   },
   "outputs": [],
   "source": [
    "# MLP-Classifier initialisieren\n",
    "mlp = MLPClassifier(hidden_layer_sizes=(64, 32), max_iter=20, alpha=0.001, random_state=42, verbose=True)\n",
    "\n",
    "# Modell trainieren\n",
    "mlp.fit(X_train, y_train)\n",
    "\n",
    "# Verlustkurve plotten\n",
    "plt.plot(mlp.loss_curve_)\n",
    "plt.title('Verlustkurve des MLP-Classifiers')\n",
    "plt.xlabel('Epochen')\n",
    "plt.ylabel('Verlust')\n",
    "plt.grid(True)\n",
    "plt.show()"
   ]
  },
  {
   "cell_type": "markdown",
   "metadata": {
    "id": "rQMNtt9H53KY"
   },
   "source": [
    "## Analyse der Genauigkeit des trainierten Modells\n",
    "Wir bewerten nun die Genauigkeit unseres MLP-Modells mithilfe der Testdaten.\n",
    "\n",
    "### Konfusionsmatrix\n",
    "\n",
    "Die visuelle Konfusionsmatrix ist wie ein großes Tabellenbild, das zeigt, wie gut unser Modell arbeitet. In diesem Bild sehen wir:\n",
    "\n",
    "- **Zeilen**: Die echten Klassen oder Kategorien.\n",
    "- **Spalten**: Die von unserem Modell vorhergesagten Klassen.\n",
    "\n",
    "Jede Zelle in der Tabelle zeigt, wie oft unser Modell eine bestimmte Klasse korrekt oder falsch vorhergesagt hat. Die Farben in der Tabelle helfen dabei, schnell zu erkennen, wo das Modell gut ist und wo es Schwierigkeiten hat. Dunklere Farben bedeuten mehr Vorhersagen. Ideal ist es, wenn alle Werte in der Hauptdiagonalen (von oben links nach unten rechts) liegen, was bedeutet, dass unser Modell in den meisten Fällen richtig liegt.\n",
    "\n",
    "**Aufgabe: Bewerte die Genauigkeit des Modells**\n",
    "- Wie genau ist das Modell?\n",
    "- In welchen Bereichen hat das Modell Falschvorhersagen getroffen?\n",
    "\n",
    "**Extraufgabe: Recherchiere die Begriffe Precision, Recall und F1-Score:**\n",
    "- Was bedeuten diese Metriken?\n",
    "- Werte die Metriken bei dem MNIST-Modell aus"
   ]
  },
  {
   "cell_type": "code",
   "execution_count": null,
   "metadata": {
    "colab": {
     "base_uri": "https://localhost:8080/",
     "height": 1000
    },
    "id": "-NSg-sf15_9a",
    "outputId": "2ff6462e-c457-4808-8e09-a7a6a6e41020"
   },
   "outputs": [],
   "source": [
    "# Vorhersagen auf Testdaten\n",
    "y_pred = mlp.predict(X_test)\n",
    "\n",
    "# Verwirrungsmatrix\n",
    "conf_matrix = confusion_matrix(y_test, y_pred)\n",
    "plt.figure(figsize=(10, 8))\n",
    "sns.heatmap(conf_matrix, annot=True, fmt='d', cmap='Blues', xticklabels=range(10), yticklabels=range(10))\n",
    "plt.xlabel('Vorhergesagte Klasse')\n",
    "plt.ylabel('Wahre Klasse')\n",
    "plt.title('Verwirrungsmatrix')\n",
    "plt.show()\n",
    "\n",
    "# Klassifikationsbericht\n",
    "report = classification_report(y_test, y_pred, target_names=[str(i) for i in range(10)])\n",
    "print(\"Klassifikationsbericht:\\n\", report)"
   ]
  },
  {
   "cell_type": "markdown",
   "metadata": {
    "id": "xk3bNIBK8EFy"
   },
   "source": [
    "## Netztopologie"
   ]
  },
  {
   "cell_type": "markdown",
   "metadata": {
    "id": "TjI9L31B84KQ"
   },
   "source": [
    "Die Struktur, also die Anzahl der Knoten pro Schicht, und die Anzahl der Schichten eines MLP wird auch als _Topologie_ bezeichnet.\n",
    "\n",
    "Sowohl die Tiefe als auch die Anzahl der Knoten kann große Auswirkungen auf die Performanz eines MLP haben. Nachdem du die folgende Zelle ausführst, erscheint ein Slider \"Layer\", welche die Tiefe des Netzes verändert und ein Input-Feld \"Knoten\", welches die Anzahl der Knoten in jedem der Hidden-Layer bestimmt. Verändere diese Werte und starte eine Trainingsphase mit dem Knopf \"Trainieren und Evaluieren\". Dies kann bis zu 2 Minuten dauern (je nach Netzgröße).\n",
    "\n",
    "Diesen Code musst du nicht verstehen, experimentiere stattdessen mit den Parametern und generiere Visualisierungen für verschiedene Parameterkombinationen.\n",
    "\n",
    "**Aufgabe**: Experimentiere mit den beiden Parametern\n",
    "- Was passiert bei geringen Netztiefen/Knotenanzahlen?\n",
    "- Was passiert bei hohen Netztiefen/Knotenanzahlen?\n",
    "- In welchem Bereich ist die Genauigkeit des Modells optimal?"
   ]
  },
  {
   "cell_type": "code",
   "execution_count": null,
   "metadata": {
    "colab": {
     "base_uri": "https://localhost:8080/",
     "height": 166,
     "referenced_widgets": [
      "26e39f9a981f4ffaa9d714614b45d089",
      "60c465ccf12444ce9d8d2c92b3297594",
      "8cd853f6082a42e6a67afabb9c5e0dca",
      "64bb7ee83b684a3f8fbc377f7ee104df",
      "336d640e716c4618b2de800a639ee7f3",
      "253308e554d542899b8e62f33329a49d",
      "869e9311a0c649bd9ba6a34f1bed630c",
      "7f4bb7b5709f46daa68667eebd38e62d",
      "bb5247e8cea94b9dba4ee092a5c67a16",
      "85169b9dbbe04cb38d2aee2270debb02",
      "b81d2838c8294dfcaf3c5b6600947995"
     ]
    },
    "id": "cclyMWfe7vuv",
    "outputId": "b70f573b-9ed8-40b6-8858-e25a2994f715"
   },
   "outputs": [],
   "source": [
    "import ipywidgets as widgets\n",
    "from IPython.display import display, clear_output\n",
    "import matplotlib.pyplot as plt\n",
    "import seaborn as sns\n",
    "from sklearn.datasets import fetch_openml\n",
    "from sklearn.model_selection import train_test_split\n",
    "from sklearn.neural_network import MLPClassifier\n",
    "from sklearn.metrics import classification_report, confusion_matrix, accuracy_score\n",
    "\n",
    "# MNIST-Datensatz laden\n",
    "mnist = fetch_openml('mnist_784')\n",
    "X, y = mnist['data'], mnist['target'].astype(int)\n",
    "\n",
    "# Daten aufteilen\n",
    "X_train, X_test, y_train, y_test = train_test_split(X, y, test_size=0.2, random_state=42)\n",
    "\n",
    "# Funktion zum Trainieren und Bewerten des MLP\n",
    "def train_evaluate_mlp(hidden_layer_sizes):\n",
    "    # Anzeige des Ladeindikators\n",
    "    with output:\n",
    "        clear_output()\n",
    "        print(\"Training läuft, bitte warten...\")\n",
    "\n",
    "    # Button deaktivieren\n",
    "    button.disabled = True\n",
    "\n",
    "    mlp = MLPClassifier(hidden_layer_sizes=hidden_layer_sizes, max_iter=20, alpha=0.001, random_state=42, verbose=1)\n",
    "    mlp.fit(X_train, y_train)\n",
    "\n",
    "    y_pred = mlp.predict(X_test)\n",
    "\n",
    "    # Genauigkeit berechnen\n",
    "    accuracy = accuracy_score(y_test, y_pred)\n",
    "\n",
    "    # Verwirrungsmatrix\n",
    "    conf_matrix = confusion_matrix(y_test, y_pred)\n",
    "\n",
    "    # Button wieder aktivieren\n",
    "    button.disabled = False\n",
    "\n",
    "    # Verwirrungsmatrix visualisieren\n",
    "    with output:\n",
    "        clear_output()\n",
    "        plt.figure(figsize=(10, 8))\n",
    "        sns.heatmap(conf_matrix, annot=True, fmt='d', cmap='Blues', xticklabels=range(10), yticklabels=range(10))\n",
    "        plt.xlabel('Vorhergesagte Klasse')\n",
    "        plt.ylabel('Wahre Klasse')\n",
    "        plt.title('Verwirrungsmatrix')\n",
    "        plt.show()\n",
    "\n",
    "        print(f\"Genauigkeit des Modells: {accuracy:.2f}\")\n",
    "\n",
    "# Interaktive Widgets für Layer-Tiefe und Anzahl der Knoten pro Layer\n",
    "layer_depth = widgets.IntSlider(value=2, min=1, max=5, step=1, description='Layer Tiefe:')\n",
    "nodes_per_layer = widgets.IntText(value=64, description='Knoten/Layer:')\n",
    "\n",
    "# Button zum Trainieren und Evaluieren des MLP\n",
    "button = widgets.Button(description='Trainieren und Evaluieren')\n",
    "output = widgets.Output()\n",
    "\n",
    "def on_button_clicked(b):\n",
    "    with output:\n",
    "        output.clear_output()\n",
    "        hidden_layer_sizes = tuple([nodes_per_layer.value] * layer_depth.value)\n",
    "        train_evaluate_mlp(hidden_layer_sizes)\n",
    "\n",
    "button.on_click(on_button_clicked)\n",
    "\n",
    "# Anzeigen der Widgets\n",
    "display(layer_depth, nodes_per_layer, button, output);"
   ]
  }
 ],
 "metadata": {
  "colab": {
   "provenance": []
  },
  "kernelspec": {
   "display_name": "Python 3",
   "name": "python3"
  },
  "language_info": {
   "name": "python"
  },
  "widgets": {
   "application/vnd.jupyter.widget-state+json": {
    "253308e554d542899b8e62f33329a49d": {
     "model_module": "@jupyter-widgets/controls",
     "model_module_version": "1.5.0",
     "model_name": "DescriptionStyleModel",
     "state": {
      "_model_module": "@jupyter-widgets/controls",
      "_model_module_version": "1.5.0",
      "_model_name": "DescriptionStyleModel",
      "_view_count": null,
      "_view_module": "@jupyter-widgets/base",
      "_view_module_version": "1.2.0",
      "_view_name": "StyleView",
      "description_width": ""
     }
    },
    "26e39f9a981f4ffaa9d714614b45d089": {
     "model_module": "@jupyter-widgets/controls",
     "model_module_version": "1.5.0",
     "model_name": "IntSliderModel",
     "state": {
      "_dom_classes": [],
      "_model_module": "@jupyter-widgets/controls",
      "_model_module_version": "1.5.0",
      "_model_name": "IntSliderModel",
      "_view_count": null,
      "_view_module": "@jupyter-widgets/controls",
      "_view_module_version": "1.5.0",
      "_view_name": "IntSliderView",
      "continuous_update": true,
      "description": "Layer Tiefe:",
      "description_tooltip": null,
      "disabled": false,
      "layout": "IPY_MODEL_60c465ccf12444ce9d8d2c92b3297594",
      "max": 5,
      "min": 1,
      "orientation": "horizontal",
      "readout": true,
      "readout_format": "d",
      "step": 1,
      "style": "IPY_MODEL_8cd853f6082a42e6a67afabb9c5e0dca",
      "value": 2
     }
    },
    "336d640e716c4618b2de800a639ee7f3": {
     "model_module": "@jupyter-widgets/base",
     "model_module_version": "1.2.0",
     "model_name": "LayoutModel",
     "state": {
      "_model_module": "@jupyter-widgets/base",
      "_model_module_version": "1.2.0",
      "_model_name": "LayoutModel",
      "_view_count": null,
      "_view_module": "@jupyter-widgets/base",
      "_view_module_version": "1.2.0",
      "_view_name": "LayoutView",
      "align_content": null,
      "align_items": null,
      "align_self": null,
      "border": null,
      "bottom": null,
      "display": null,
      "flex": null,
      "flex_flow": null,
      "grid_area": null,
      "grid_auto_columns": null,
      "grid_auto_flow": null,
      "grid_auto_rows": null,
      "grid_column": null,
      "grid_gap": null,
      "grid_row": null,
      "grid_template_areas": null,
      "grid_template_columns": null,
      "grid_template_rows": null,
      "height": null,
      "justify_content": null,
      "justify_items": null,
      "left": null,
      "margin": null,
      "max_height": null,
      "max_width": null,
      "min_height": null,
      "min_width": null,
      "object_fit": null,
      "object_position": null,
      "order": null,
      "overflow": null,
      "overflow_x": null,
      "overflow_y": null,
      "padding": null,
      "right": null,
      "top": null,
      "visibility": null,
      "width": null
     }
    },
    "60c465ccf12444ce9d8d2c92b3297594": {
     "model_module": "@jupyter-widgets/base",
     "model_module_version": "1.2.0",
     "model_name": "LayoutModel",
     "state": {
      "_model_module": "@jupyter-widgets/base",
      "_model_module_version": "1.2.0",
      "_model_name": "LayoutModel",
      "_view_count": null,
      "_view_module": "@jupyter-widgets/base",
      "_view_module_version": "1.2.0",
      "_view_name": "LayoutView",
      "align_content": null,
      "align_items": null,
      "align_self": null,
      "border": null,
      "bottom": null,
      "display": null,
      "flex": null,
      "flex_flow": null,
      "grid_area": null,
      "grid_auto_columns": null,
      "grid_auto_flow": null,
      "grid_auto_rows": null,
      "grid_column": null,
      "grid_gap": null,
      "grid_row": null,
      "grid_template_areas": null,
      "grid_template_columns": null,
      "grid_template_rows": null,
      "height": null,
      "justify_content": null,
      "justify_items": null,
      "left": null,
      "margin": null,
      "max_height": null,
      "max_width": null,
      "min_height": null,
      "min_width": null,
      "object_fit": null,
      "object_position": null,
      "order": null,
      "overflow": null,
      "overflow_x": null,
      "overflow_y": null,
      "padding": null,
      "right": null,
      "top": null,
      "visibility": null,
      "width": null
     }
    },
    "64bb7ee83b684a3f8fbc377f7ee104df": {
     "model_module": "@jupyter-widgets/controls",
     "model_module_version": "1.5.0",
     "model_name": "IntTextModel",
     "state": {
      "_dom_classes": [],
      "_model_module": "@jupyter-widgets/controls",
      "_model_module_version": "1.5.0",
      "_model_name": "IntTextModel",
      "_view_count": null,
      "_view_module": "@jupyter-widgets/controls",
      "_view_module_version": "1.5.0",
      "_view_name": "IntTextView",
      "continuous_update": false,
      "description": "Knoten/Layer:",
      "description_tooltip": null,
      "disabled": false,
      "layout": "IPY_MODEL_336d640e716c4618b2de800a639ee7f3",
      "step": 1,
      "style": "IPY_MODEL_253308e554d542899b8e62f33329a49d",
      "value": 64
     }
    },
    "7f4bb7b5709f46daa68667eebd38e62d": {
     "model_module": "@jupyter-widgets/base",
     "model_module_version": "1.2.0",
     "model_name": "LayoutModel",
     "state": {
      "_model_module": "@jupyter-widgets/base",
      "_model_module_version": "1.2.0",
      "_model_name": "LayoutModel",
      "_view_count": null,
      "_view_module": "@jupyter-widgets/base",
      "_view_module_version": "1.2.0",
      "_view_name": "LayoutView",
      "align_content": null,
      "align_items": null,
      "align_self": null,
      "border": null,
      "bottom": null,
      "display": null,
      "flex": null,
      "flex_flow": null,
      "grid_area": null,
      "grid_auto_columns": null,
      "grid_auto_flow": null,
      "grid_auto_rows": null,
      "grid_column": null,
      "grid_gap": null,
      "grid_row": null,
      "grid_template_areas": null,
      "grid_template_columns": null,
      "grid_template_rows": null,
      "height": null,
      "justify_content": null,
      "justify_items": null,
      "left": null,
      "margin": null,
      "max_height": null,
      "max_width": null,
      "min_height": null,
      "min_width": null,
      "object_fit": null,
      "object_position": null,
      "order": null,
      "overflow": null,
      "overflow_x": null,
      "overflow_y": null,
      "padding": null,
      "right": null,
      "top": null,
      "visibility": null,
      "width": null
     }
    },
    "85169b9dbbe04cb38d2aee2270debb02": {
     "model_module": "@jupyter-widgets/output",
     "model_module_version": "1.0.0",
     "model_name": "OutputModel",
     "state": {
      "_dom_classes": [],
      "_model_module": "@jupyter-widgets/output",
      "_model_module_version": "1.0.0",
      "_model_name": "OutputModel",
      "_view_count": null,
      "_view_module": "@jupyter-widgets/output",
      "_view_module_version": "1.0.0",
      "_view_name": "OutputView",
      "layout": "IPY_MODEL_b81d2838c8294dfcaf3c5b6600947995",
      "msg_id": "",
      "outputs": []
     }
    },
    "869e9311a0c649bd9ba6a34f1bed630c": {
     "model_module": "@jupyter-widgets/controls",
     "model_module_version": "1.5.0",
     "model_name": "ButtonModel",
     "state": {
      "_dom_classes": [],
      "_model_module": "@jupyter-widgets/controls",
      "_model_module_version": "1.5.0",
      "_model_name": "ButtonModel",
      "_view_count": null,
      "_view_module": "@jupyter-widgets/controls",
      "_view_module_version": "1.5.0",
      "_view_name": "ButtonView",
      "button_style": "",
      "description": "Trainieren und Evaluieren",
      "disabled": false,
      "icon": "",
      "layout": "IPY_MODEL_7f4bb7b5709f46daa68667eebd38e62d",
      "style": "IPY_MODEL_bb5247e8cea94b9dba4ee092a5c67a16",
      "tooltip": ""
     }
    },
    "8cd853f6082a42e6a67afabb9c5e0dca": {
     "model_module": "@jupyter-widgets/controls",
     "model_module_version": "1.5.0",
     "model_name": "SliderStyleModel",
     "state": {
      "_model_module": "@jupyter-widgets/controls",
      "_model_module_version": "1.5.0",
      "_model_name": "SliderStyleModel",
      "_view_count": null,
      "_view_module": "@jupyter-widgets/base",
      "_view_module_version": "1.2.0",
      "_view_name": "StyleView",
      "description_width": "",
      "handle_color": null
     }
    },
    "b81d2838c8294dfcaf3c5b6600947995": {
     "model_module": "@jupyter-widgets/base",
     "model_module_version": "1.2.0",
     "model_name": "LayoutModel",
     "state": {
      "_model_module": "@jupyter-widgets/base",
      "_model_module_version": "1.2.0",
      "_model_name": "LayoutModel",
      "_view_count": null,
      "_view_module": "@jupyter-widgets/base",
      "_view_module_version": "1.2.0",
      "_view_name": "LayoutView",
      "align_content": null,
      "align_items": null,
      "align_self": null,
      "border": null,
      "bottom": null,
      "display": null,
      "flex": null,
      "flex_flow": null,
      "grid_area": null,
      "grid_auto_columns": null,
      "grid_auto_flow": null,
      "grid_auto_rows": null,
      "grid_column": null,
      "grid_gap": null,
      "grid_row": null,
      "grid_template_areas": null,
      "grid_template_columns": null,
      "grid_template_rows": null,
      "height": null,
      "justify_content": null,
      "justify_items": null,
      "left": null,
      "margin": null,
      "max_height": null,
      "max_width": null,
      "min_height": null,
      "min_width": null,
      "object_fit": null,
      "object_position": null,
      "order": null,
      "overflow": null,
      "overflow_x": null,
      "overflow_y": null,
      "padding": null,
      "right": null,
      "top": null,
      "visibility": null,
      "width": null
     }
    },
    "bb5247e8cea94b9dba4ee092a5c67a16": {
     "model_module": "@jupyter-widgets/controls",
     "model_module_version": "1.5.0",
     "model_name": "ButtonStyleModel",
     "state": {
      "_model_module": "@jupyter-widgets/controls",
      "_model_module_version": "1.5.0",
      "_model_name": "ButtonStyleModel",
      "_view_count": null,
      "_view_module": "@jupyter-widgets/base",
      "_view_module_version": "1.2.0",
      "_view_name": "StyleView",
      "button_color": null,
      "font_weight": ""
     }
    }
   }
  }
 },
 "nbformat": 4,
 "nbformat_minor": 0
}
