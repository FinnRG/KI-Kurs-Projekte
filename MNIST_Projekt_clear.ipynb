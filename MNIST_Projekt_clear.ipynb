{
 "cells": [
  {
   "cell_type": "markdown",
   "metadata": {
    "id": "M5x7SMmo4D9m"
   },
   "source": [
    "# MNIST-Datensatz\n",
    "Der MNIST-Datensatz (Modified National Institute of Standards and Technology) ist ein berühmter Datensatz in der Welt der maschinellen Lernens. Er besteht aus handgeschriebenen Ziffern, die in einem Bildformat von 28x28 Pixeln gespeichert sind. Der Datensatz ist ideal, um grundlegende Klassifikationsaufgaben zu üben und zu verstehen, wie neuronale Netzwerke funktionieren. In dieser Analyse werden wir den MNIST-Datensatz laden, untersuchen, visualisieren und schließlich ein Mehrschichtiges Perzeptron (MLP) trainieren, um die Ziffern zu klassifizieren."
   ]
  },
  {
   "cell_type": "markdown",
   "metadata": {
    "id": "EzRTKcaB4Mdw"
   },
   "source": [
    "## Notwendige Bibliotheken\n",
    "Zuerst installieren wir die schon bekannten Bibliotheken `scikit-learn`, `pandas`, etc."
   ]
  },
  {
   "cell_type": "code",
   "execution_count": null,
   "metadata": {
    "id": "C647WK3J4aUz"
   },
   "outputs": [],
   "source": [
    "%pip install matplotlib seaborn pandas scikit-learn numpy"
   ]
  },
  {
   "cell_type": "markdown",
   "metadata": {
    "id": "Mtd9kgqW4Ju9"
   },
   "source": [
    "## Laden der Daten\n"
   ]
  },
  {
   "cell_type": "markdown",
   "metadata": {
    "id": "ZmcobXe24hlj"
   },
   "source": [
    "Zunächst müssen wir die notwendigen Bibliotheken importieren und den MNIST-Datensatz laden. Wir verwenden dafür `scikit-learn`."
   ]
  },
  {
   "cell_type": "code",
   "execution_count": null,
   "metadata": {
    "colab": {
     "base_uri": "https://localhost:8080/"
    },
    "id": "CnG3wGAt4fFD",
    "outputId": "b04bd25c-d694-45ee-a277-71d457d8b079"
   },
   "outputs": [],
   "source": [
    "import numpy as np\n",
    "import matplotlib.pyplot as plt\n",
    "from sklearn.datasets import fetch_openml\n",
    "from sklearn.model_selection import train_test_split\n",
    "from sklearn.neural_network import MLPClassifier\n",
    "from sklearn.metrics import classification_report, confusion_matrix\n",
    "import seaborn as sns\n",
    "\n",
    "# MNIST-Datensatz laden\n",
    "mnist = fetch_openml('mnist_784')\n",
    "X, y = mnist['data'], mnist['target'].astype(int)\n",
    "\n",
    "# Daten aufteilen\n",
    "X_train, X_test, y_train, y_test = train_test_split(X, y, test_size=0.2, random_state=42)"
   ]
  },
  {
   "cell_type": "markdown",
   "metadata": {
    "id": "HVojhIjD4o1P"
   },
   "source": [
    "## Analyse des Datensatzes\n",
    "Der MNIST-Datensatz besteht aus 70.000 Bildern von handgeschriebenen Ziffern, wobei 60.000 Bilder für das Training und 10.000 Bilder für das Testen verwendet werden. Jedes Bild ist 28x28 Pixel groß, also 784 Pixel insgesamt.\n",
    "\n",
    "Wir können die Dimensionen der Trainings- und Testdaten wie folgt überprüfen:\n",
    "\n",
    "**Aufgabe:** Wie viele Neuronen hat die Eigabeschicht, basierend auf der Ausgabe dieser Zelle."
   ]
  },
  {
   "cell_type": "code",
   "execution_count": null,
   "metadata": {
    "colab": {
     "base_uri": "https://localhost:8080/"
    },
    "id": "hEXIO8024rTd",
    "outputId": "48ab2c38-e267-4545-e7d6-3f2e56fdc956"
   },
   "outputs": [],
   "source": [
    "anzahl_bilder_training = X_train.shape[0]\n",
    "anzahl_training_pixel = X_train.shape[1]\n",
    "anzahl_bilder_test = X_test.shape[0]\n",
    "anzahl_test_pixel = X_test.shape[1]\n",
    "print(f\"Trainingsdaten: {anzahl_bilder_training} Bilder, jedes Bild hat {anzahl_training_pixel} Pixel\")\n",
    "print(f\"Testdaten: {anzahl_bilder_test} Bilder, jedes Bild hat {anzahl_test_pixel} Pixel\")"
   ]
  },
  {
   "cell_type": "markdown",
   "metadata": {
    "id": "BYSJOza745us"
   },
   "source": [
    "Um ein besseres Verständnis für die Daten zu bekommen, ist es hilfreich, einige Bilder zu visualisieren. Dazu verwenden wir `matplotlib`."
   ]
  },
  {
   "cell_type": "code",
   "execution_count": null,
   "metadata": {
    "colab": {
     "base_uri": "https://localhost:8080/",
     "height": 125
    },
    "id": "s6DTcy-l47x1",
    "outputId": "946fd700-5a78-409f-b69d-8f05ff155895"
   },
   "outputs": [],
   "source": [
    "# Funktion zum Anzeigen von Bildern\n",
    "def plot_images(images, labels, num_images=10):\n",
    "    plt.figure(figsize=(10, 2))\n",
    "    for i in range(num_images):\n",
    "        plt.subplot(1, num_images, i + 1)\n",
    "        plt.imshow(images[i].reshape(28, 28), cmap=\"gray\")\n",
    "        plt.title(labels[i])\n",
    "        plt.axis('off')\n",
    "    plt.show()\n",
    "\n",
    "# Zeige einige Bilder\n",
    "plot_images(X_train.to_numpy(), y_train.to_numpy())"
   ]
  },
  {
   "cell_type": "markdown",
   "metadata": {
    "id": "tf2vrSAw6nZD"
   },
   "source": [
    "Zunächst betrachten wir die Verteilung der verschiedenen Ziffern im Datensatz. Dies gibt uns einen Überblick darüber, ob der Datensatz ausgewogen ist oder ob bestimmte Ziffern häufiger vorkommen.\n",
    "\n",
    "**Aufgabe**: Analysiere die Verteilung der Ziffern im Trainingsdatensatz\n",
    "- Was fällt dir auf?\n",
    "- Können wir den gegebenen Datensatz nutzen um eine KI zu trainieren?"
   ]
  },
  {
   "cell_type": "code",
   "execution_count": null,
   "metadata": {
    "colab": {
     "base_uri": "https://localhost:8080/",
     "height": 579
    },
    "id": "V1Kv3Zxd6c5r",
    "outputId": "3850b613-e073-4f08-d83a-dba38ea173bf"
   },
   "outputs": [],
   "source": [
    "# Zählung der Klassen\n",
    "sns.countplot(x=y_train, palette=\"viridis\")\n",
    "plt.title(\"Verteilung der Ziffern im Trainingsdatensatz\")\n",
    "plt.xlabel(\"Ziffern\")\n",
    "plt.ylabel(\"Anzahl\")\n",
    "plt.show()"
   ]
  },
  {
   "cell_type": "markdown",
   "metadata": {
    "id": "9qdGvM0n7IRD"
   },
   "source": [
    "Wir können die durchschnittlichen Bilder jeder Ziffer berechnen und visualisieren, um zu sehen, ob es charakteristische Muster gibt."
   ]
  },
  {
   "cell_type": "code",
   "execution_count": null,
   "metadata": {
    "colab": {
     "base_uri": "https://localhost:8080/",
     "height": 360
    },
    "id": "qJH62pbI6ipA",
    "outputId": "484423b0-fa6c-4d4f-8955-8bf520b3d0fd"
   },
   "outputs": [],
   "source": [
    "# Durchschnittliche Bilder pro Ziffer berechnen\n",
    "average_images = np.zeros((10, 784))\n",
    "for i in range(10):\n",
    "    average_images[i] = X_train[y_train == i].mean(axis=0)\n",
    "\n",
    "# Funktion zum Anzeigen der durchschnittlichen Bilder\n",
    "def plot_average_images(images):\n",
    "    plt.figure(figsize=(10, 4))\n",
    "    for i in range(10):\n",
    "        plt.subplot(2, 5, i + 1)\n",
    "        plt.imshow(images[i].reshape(28, 28), cmap='gray')\n",
    "        plt.title(f'Ziffer {i}')\n",
    "        plt.axis('off')\n",
    "    plt.show()\n",
    "\n",
    "# Zeige durchschnittliche Bilder\n",
    "plot_average_images(average_images)"
   ]
  },
  {
   "cell_type": "markdown",
   "metadata": {
    "id": "3t9OTht35fbz"
   },
   "source": [
    "## Trainierung eines MLP Modells\n",
    "Nun trainieren wir ein Mehrschichtiges Perzeptron (MLP), um die Ziffern zu klassifizieren. Ein MLP ist ein neuronales Netzwerk mit mehreren Schichten, das zur Klassifizierung von Bildern verwendet wird.\n",
    "\n",
    "Wir verwenden zuerst ein MLP mit 2 hidden layers mit jeweils 64 und 32 Neuronen."
   ]
  },
  {
   "cell_type": "code",
   "execution_count": null,
   "metadata": {
    "colab": {
     "base_uri": "https://localhost:8080/",
     "height": 874
    },
    "id": "TGW1hqyk5yuI",
    "outputId": "66604989-9219-4e9f-9ab3-c28438ac3a07"
   },
   "outputs": [],
   "source": [
    "# MLP-Classifier initialisieren\n",
    "mlp = MLPClassifier(hidden_layer_sizes=(64, 32), max_iter=20, alpha=0.001, random_state=42, verbose=True)\n",
    "\n",
    "# Modell trainieren\n",
    "mlp.fit(X_train, y_train)\n",
    "\n",
    "# Verlustkurve plotten\n",
    "plt.plot(mlp.loss_curve_)\n",
    "plt.title('Verlustkurve des MLP-Classifiers')\n",
    "plt.xlabel('Epochen')\n",
    "plt.ylabel('Verlust')\n",
    "plt.grid(True)\n",
    "plt.show()"
   ]
  },
  {
   "cell_type": "markdown",
   "metadata": {
    "id": "rQMNtt9H53KY"
   },
   "source": [
    "## Analyse der Genauigkeit des trainierten Modells\n",
    "Wir bewerten nun die Genauigkeit unseres MLP-Modells mithilfe der Testdaten.\n",
    "\n",
    "### Konfusionsmatrix\n",
    "\n",
    "Die visuelle Konfusionsmatrix ist wie ein großes Tabellenbild, das zeigt, wie gut unser Modell arbeitet. In diesem Bild sehen wir:\n",
    "\n",
    "- **Zeilen**: Die echten Klassen oder Kategorien.\n",
    "- **Spalten**: Die von unserem Modell vorhergesagten Klassen.\n",
    "\n",
    "Jede Zelle in der Tabelle zeigt, wie oft unser Modell eine bestimmte Klasse korrekt oder falsch vorhergesagt hat. Die Farben in der Tabelle helfen dabei, schnell zu erkennen, wo das Modell gut ist und wo es Schwierigkeiten hat. Dunklere Farben bedeuten mehr Vorhersagen. Ideal ist es, wenn alle Werte in der Hauptdiagonalen (von oben links nach unten rechts) liegen, was bedeutet, dass unser Modell in den meisten Fällen richtig liegt.\n",
    "\n",
    "**Aufgabe: Bewerte die Genauigkeit des Modells**\n",
    "- Wie genau ist das Modell?\n",
    "- In welchen Bereichen hat das Modell Falschvorhersagen getroffen?\n",
    "\n",
    "**Extraufgabe: Recherchiere die Begriffe Precision, Recall und F1-Score:**\n",
    "- Was bedeuten diese Metriken?\n",
    "- Werte die Metriken bei dem MNIST-Modell aus"
   ]
  },
  {
   "cell_type": "code",
   "execution_count": null,
   "metadata": {
    "colab": {
     "base_uri": "https://localhost:8080/",
     "height": 1000
    },
    "id": "-NSg-sf15_9a",
    "outputId": "1aafb56d-dc6c-4933-c825-5c5fbb2529be"
   },
   "outputs": [],
   "source": [
    "# Vorhersagen auf Testdaten\n",
    "y_pred = mlp.predict(X_test)\n",
    "\n",
    "# Verwirrungsmatrix\n",
    "conf_matrix = confusion_matrix(y_test, y_pred)\n",
    "plt.figure(figsize=(10, 8))\n",
    "sns.heatmap(conf_matrix, annot=True, fmt='d', cmap='Blues', xticklabels=range(10), yticklabels=range(10))\n",
    "plt.xlabel('Vorhergesagte Klasse')\n",
    "plt.ylabel('Wahre Klasse')\n",
    "plt.title('Verwirrungsmatrix')\n",
    "plt.show()\n",
    "\n",
    "# Klassifikationsbericht\n",
    "report = classification_report(y_test, y_pred, target_names=[str(i) for i in range(10)])\n",
    "print(\"Klassifikationsbericht:\\n\", report)"
   ]
  },
  {
   "cell_type": "markdown",
   "metadata": {
    "id": "xk3bNIBK8EFy"
   },
   "source": [
    "## Netztopologie"
   ]
  },
  {
   "cell_type": "markdown",
   "metadata": {
    "id": "TjI9L31B84KQ"
   },
   "source": [
    "Die Struktur, also die Anzahl der Knoten pro Schicht, und die Anzahl der Schichten eines MLP wird auch als _Topologie_ bezeichnet.\n",
    "\n",
    "Sowohl die Tiefe als auch die Anzahl der Knoten kann große Auswirkungen auf die Performanz eines MLP haben. Nachdem du die folgende Zelle ausführst, erscheint ein Slider \"Layer\", welche die Tiefe des Netzes verändert und ein Input-Feld \"Knoten\", welches die Anzahl der Knoten in jedem der Hidden-Layer bestimmt. Verändere diese Werte und starte eine Trainingsphase mit dem Knopf \"Trainieren und Evaluieren\". Dies kann bis zu 2 Minuten dauern (je nach Netzgröße).\n",
    "\n",
    "Diesen Code musst du nicht verstehen, experimentiere stattdessen mit den Parametern und generiere Visualisierungen für verschiedene Parameterkombinationen.\n",
    "\n",
    "**Aufgabe**: Experimentiere mit den beiden Parametern\n",
    "- Was passiert bei geringen Netztiefen/Knotenanzahlen?\n",
    "- Was passiert bei hohen Netztiefen/Knotenanzahlen?\n",
    "- In welchem Bereich ist die Genauigkeit des Modells optimal?"
   ]
  },
  {
   "cell_type": "code",
   "execution_count": null,
   "metadata": {
    "colab": {
     "base_uri": "https://localhost:8080/",
     "height": 884,
     "referenced_widgets": [
      "f7cf396422b2464395e42b15237dc257",
      "ee4f3d7f8c6d4d37ae4179c5770e306a",
      "bd59c99fa9514759b95a5a4d98db8b7d",
      "172e25c15205471b85eda890d91453ed",
      "4be108779e074cbdb356b1d41f3a128d",
      "f89c2920777e4b4a87540eeb032144f5",
      "9eb381d9d9ad407c8e20e6b2ca824ef2",
      "1c25ca7fea664379be4d2a5e549f7f62",
      "df922a4c953946319f9d74fc8b675ddb",
      "32cb91f9fd2044b8ab742cbcdcdfdcc7",
      "f0f61f93499e41f2997883a964df3f0a"
     ]
    },
    "id": "cclyMWfe7vuv",
    "outputId": "573fbce5-1aba-4985-9e86-5dd8bd074780"
   },
   "outputs": [],
   "source": [
    "import ipywidgets as widgets\n",
    "from IPython.display import display, clear_output\n",
    "import matplotlib.pyplot as plt\n",
    "import seaborn as sns\n",
    "from sklearn.datasets import fetch_openml\n",
    "from sklearn.model_selection import train_test_split\n",
    "from sklearn.neural_network import MLPClassifier\n",
    "from sklearn.metrics import classification_report, confusion_matrix, accuracy_score\n",
    "\n",
    "# MNIST-Datensatz laden\n",
    "mnist = fetch_openml('mnist_784')\n",
    "X, y = mnist['data'], mnist['target'].astype(int)\n",
    "\n",
    "# Daten aufteilen\n",
    "X_train, X_test, y_train, y_test = train_test_split(X, y, test_size=0.2, random_state=42)\n",
    "\n",
    "# Funktion zum Trainieren und Bewerten des MLP\n",
    "def train_evaluate_mlp(hidden_layer_sizes):\n",
    "    # Anzeige des Ladeindikators\n",
    "    with output:\n",
    "        clear_output()\n",
    "        print(\"Training läuft, bitte warten...\")\n",
    "\n",
    "    # Button deaktivieren\n",
    "    button.disabled = True\n",
    "\n",
    "    mlp = MLPClassifier(hidden_layer_sizes=hidden_layer_sizes, max_iter=20, alpha=0.001, random_state=42, verbose=1)\n",
    "    mlp.fit(X_train, y_train)\n",
    "\n",
    "    y_pred = mlp.predict(X_test)\n",
    "\n",
    "    # Genauigkeit berechnen\n",
    "    accuracy = accuracy_score(y_test, y_pred)\n",
    "\n",
    "    # Verwirrungsmatrix\n",
    "    conf_matrix = confusion_matrix(y_test, y_pred)\n",
    "\n",
    "    # Button wieder aktivieren\n",
    "    button.disabled = False\n",
    "\n",
    "    # Verwirrungsmatrix visualisieren\n",
    "    with output:\n",
    "        clear_output()\n",
    "        plt.figure(figsize=(10, 8))\n",
    "        sns.heatmap(conf_matrix, annot=True, fmt='d', cmap='Blues', xticklabels=range(10), yticklabels=range(10))\n",
    "        plt.xlabel('Vorhergesagte Klasse')\n",
    "        plt.ylabel('Wahre Klasse')\n",
    "        plt.title('Verwirrungsmatrix')\n",
    "        plt.show()\n",
    "\n",
    "        print(f\"Genauigkeit des Modells: {accuracy:.2f}\")\n",
    "\n",
    "# Interaktive Widgets für Layer-Tiefe und Anzahl der Knoten pro Layer\n",
    "layer_depth = widgets.IntSlider(value=2, min=1, max=5, step=1, description='Layer Tiefe:')\n",
    "nodes_per_layer = widgets.IntText(value=64, description='Knoten/Layer:')\n",
    "\n",
    "# Button zum Trainieren und Evaluieren des MLP\n",
    "button = widgets.Button(description='Trainieren und Evaluieren')\n",
    "output = widgets.Output()\n",
    "\n",
    "def on_button_clicked(b):\n",
    "    with output:\n",
    "        output.clear_output()\n",
    "        hidden_layer_sizes = tuple([nodes_per_layer.value] * layer_depth.value)\n",
    "        train_evaluate_mlp(hidden_layer_sizes)\n",
    "\n",
    "button.on_click(on_button_clicked)\n",
    "\n",
    "# Anzeigen der Widgets\n",
    "display(layer_depth, nodes_per_layer, button, output);"
   ]
  }
 ],
 "metadata": {
  "colab": {
   "provenance": []
  },
  "kernelspec": {
   "display_name": "Python 3",
   "name": "python3"
  },
  "language_info": {
   "name": "python"
  },
  "widgets": {
   "application/vnd.jupyter.widget-state+json": {
    "172e25c15205471b85eda890d91453ed": {
     "model_module": "@jupyter-widgets/controls",
     "model_module_version": "1.5.0",
     "model_name": "IntTextModel",
     "state": {
      "_dom_classes": [],
      "_model_module": "@jupyter-widgets/controls",
      "_model_module_version": "1.5.0",
      "_model_name": "IntTextModel",
      "_view_count": null,
      "_view_module": "@jupyter-widgets/controls",
      "_view_module_version": "1.5.0",
      "_view_name": "IntTextView",
      "continuous_update": false,
      "description": "Knoten/Layer:",
      "description_tooltip": null,
      "disabled": false,
      "layout": "IPY_MODEL_4be108779e074cbdb356b1d41f3a128d",
      "step": 1,
      "style": "IPY_MODEL_f89c2920777e4b4a87540eeb032144f5",
      "value": 8
     }
    },
    "1c25ca7fea664379be4d2a5e549f7f62": {
     "model_module": "@jupyter-widgets/base",
     "model_module_version": "1.2.0",
     "model_name": "LayoutModel",
     "state": {
      "_model_module": "@jupyter-widgets/base",
      "_model_module_version": "1.2.0",
      "_model_name": "LayoutModel",
      "_view_count": null,
      "_view_module": "@jupyter-widgets/base",
      "_view_module_version": "1.2.0",
      "_view_name": "LayoutView",
      "align_content": null,
      "align_items": null,
      "align_self": null,
      "border": null,
      "bottom": null,
      "display": null,
      "flex": null,
      "flex_flow": null,
      "grid_area": null,
      "grid_auto_columns": null,
      "grid_auto_flow": null,
      "grid_auto_rows": null,
      "grid_column": null,
      "grid_gap": null,
      "grid_row": null,
      "grid_template_areas": null,
      "grid_template_columns": null,
      "grid_template_rows": null,
      "height": null,
      "justify_content": null,
      "justify_items": null,
      "left": null,
      "margin": null,
      "max_height": null,
      "max_width": null,
      "min_height": null,
      "min_width": null,
      "object_fit": null,
      "object_position": null,
      "order": null,
      "overflow": null,
      "overflow_x": null,
      "overflow_y": null,
      "padding": null,
      "right": null,
      "top": null,
      "visibility": null,
      "width": null
     }
    },
    "32cb91f9fd2044b8ab742cbcdcdfdcc7": {
     "model_module": "@jupyter-widgets/output",
     "model_module_version": "1.0.0",
     "model_name": "OutputModel",
     "state": {
      "_dom_classes": [],
      "_model_module": "@jupyter-widgets/output",
      "_model_module_version": "1.0.0",
      "_model_name": "OutputModel",
      "_view_count": null,
      "_view_module": "@jupyter-widgets/output",
      "_view_module_version": "1.0.0",
      "_view_name": "OutputView",
      "layout": "IPY_MODEL_f0f61f93499e41f2997883a964df3f0a",
      "msg_id": "",
      "outputs": [
       {
        "data": {
         "image/png": "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\n",
         "text/plain": "<Figure size 1000x800 with 2 Axes>"
        },
        "metadata": {},
        "output_type": "display_data"
       },
       {
        "name": "stdout",
        "output_type": "stream",
        "text": [
         "Genauigkeit des Modells: 0.50\n"
        ]
       }
      ]
     }
    },
    "4be108779e074cbdb356b1d41f3a128d": {
     "model_module": "@jupyter-widgets/base",
     "model_module_version": "1.2.0",
     "model_name": "LayoutModel",
     "state": {
      "_model_module": "@jupyter-widgets/base",
      "_model_module_version": "1.2.0",
      "_model_name": "LayoutModel",
      "_view_count": null,
      "_view_module": "@jupyter-widgets/base",
      "_view_module_version": "1.2.0",
      "_view_name": "LayoutView",
      "align_content": null,
      "align_items": null,
      "align_self": null,
      "border": null,
      "bottom": null,
      "display": null,
      "flex": null,
      "flex_flow": null,
      "grid_area": null,
      "grid_auto_columns": null,
      "grid_auto_flow": null,
      "grid_auto_rows": null,
      "grid_column": null,
      "grid_gap": null,
      "grid_row": null,
      "grid_template_areas": null,
      "grid_template_columns": null,
      "grid_template_rows": null,
      "height": null,
      "justify_content": null,
      "justify_items": null,
      "left": null,
      "margin": null,
      "max_height": null,
      "max_width": null,
      "min_height": null,
      "min_width": null,
      "object_fit": null,
      "object_position": null,
      "order": null,
      "overflow": null,
      "overflow_x": null,
      "overflow_y": null,
      "padding": null,
      "right": null,
      "top": null,
      "visibility": null,
      "width": null
     }
    },
    "9eb381d9d9ad407c8e20e6b2ca824ef2": {
     "model_module": "@jupyter-widgets/controls",
     "model_module_version": "1.5.0",
     "model_name": "ButtonModel",
     "state": {
      "_dom_classes": [],
      "_model_module": "@jupyter-widgets/controls",
      "_model_module_version": "1.5.0",
      "_model_name": "ButtonModel",
      "_view_count": null,
      "_view_module": "@jupyter-widgets/controls",
      "_view_module_version": "1.5.0",
      "_view_name": "ButtonView",
      "button_style": "",
      "description": "Trainieren und Evaluieren",
      "disabled": false,
      "icon": "",
      "layout": "IPY_MODEL_1c25ca7fea664379be4d2a5e549f7f62",
      "style": "IPY_MODEL_df922a4c953946319f9d74fc8b675ddb",
      "tooltip": ""
     }
    },
    "bd59c99fa9514759b95a5a4d98db8b7d": {
     "model_module": "@jupyter-widgets/controls",
     "model_module_version": "1.5.0",
     "model_name": "SliderStyleModel",
     "state": {
      "_model_module": "@jupyter-widgets/controls",
      "_model_module_version": "1.5.0",
      "_model_name": "SliderStyleModel",
      "_view_count": null,
      "_view_module": "@jupyter-widgets/base",
      "_view_module_version": "1.2.0",
      "_view_name": "StyleView",
      "description_width": "",
      "handle_color": null
     }
    },
    "df922a4c953946319f9d74fc8b675ddb": {
     "model_module": "@jupyter-widgets/controls",
     "model_module_version": "1.5.0",
     "model_name": "ButtonStyleModel",
     "state": {
      "_model_module": "@jupyter-widgets/controls",
      "_model_module_version": "1.5.0",
      "_model_name": "ButtonStyleModel",
      "_view_count": null,
      "_view_module": "@jupyter-widgets/base",
      "_view_module_version": "1.2.0",
      "_view_name": "StyleView",
      "button_color": null,
      "font_weight": ""
     }
    },
    "ee4f3d7f8c6d4d37ae4179c5770e306a": {
     "model_module": "@jupyter-widgets/base",
     "model_module_version": "1.2.0",
     "model_name": "LayoutModel",
     "state": {
      "_model_module": "@jupyter-widgets/base",
      "_model_module_version": "1.2.0",
      "_model_name": "LayoutModel",
      "_view_count": null,
      "_view_module": "@jupyter-widgets/base",
      "_view_module_version": "1.2.0",
      "_view_name": "LayoutView",
      "align_content": null,
      "align_items": null,
      "align_self": null,
      "border": null,
      "bottom": null,
      "display": null,
      "flex": null,
      "flex_flow": null,
      "grid_area": null,
      "grid_auto_columns": null,
      "grid_auto_flow": null,
      "grid_auto_rows": null,
      "grid_column": null,
      "grid_gap": null,
      "grid_row": null,
      "grid_template_areas": null,
      "grid_template_columns": null,
      "grid_template_rows": null,
      "height": null,
      "justify_content": null,
      "justify_items": null,
      "left": null,
      "margin": null,
      "max_height": null,
      "max_width": null,
      "min_height": null,
      "min_width": null,
      "object_fit": null,
      "object_position": null,
      "order": null,
      "overflow": null,
      "overflow_x": null,
      "overflow_y": null,
      "padding": null,
      "right": null,
      "top": null,
      "visibility": null,
      "width": null
     }
    },
    "f0f61f93499e41f2997883a964df3f0a": {
     "model_module": "@jupyter-widgets/base",
     "model_module_version": "1.2.0",
     "model_name": "LayoutModel",
     "state": {
      "_model_module": "@jupyter-widgets/base",
      "_model_module_version": "1.2.0",
      "_model_name": "LayoutModel",
      "_view_count": null,
      "_view_module": "@jupyter-widgets/base",
      "_view_module_version": "1.2.0",
      "_view_name": "LayoutView",
      "align_content": null,
      "align_items": null,
      "align_self": null,
      "border": null,
      "bottom": null,
      "display": null,
      "flex": null,
      "flex_flow": null,
      "grid_area": null,
      "grid_auto_columns": null,
      "grid_auto_flow": null,
      "grid_auto_rows": null,
      "grid_column": null,
      "grid_gap": null,
      "grid_row": null,
      "grid_template_areas": null,
      "grid_template_columns": null,
      "grid_template_rows": null,
      "height": null,
      "justify_content": null,
      "justify_items": null,
      "left": null,
      "margin": null,
      "max_height": null,
      "max_width": null,
      "min_height": null,
      "min_width": null,
      "object_fit": null,
      "object_position": null,
      "order": null,
      "overflow": null,
      "overflow_x": null,
      "overflow_y": null,
      "padding": null,
      "right": null,
      "top": null,
      "visibility": null,
      "width": null
     }
    },
    "f7cf396422b2464395e42b15237dc257": {
     "model_module": "@jupyter-widgets/controls",
     "model_module_version": "1.5.0",
     "model_name": "IntSliderModel",
     "state": {
      "_dom_classes": [],
      "_model_module": "@jupyter-widgets/controls",
      "_model_module_version": "1.5.0",
      "_model_name": "IntSliderModel",
      "_view_count": null,
      "_view_module": "@jupyter-widgets/controls",
      "_view_module_version": "1.5.0",
      "_view_name": "IntSliderView",
      "continuous_update": true,
      "description": "Layer Tiefe:",
      "description_tooltip": null,
      "disabled": false,
      "layout": "IPY_MODEL_ee4f3d7f8c6d4d37ae4179c5770e306a",
      "max": 5,
      "min": 1,
      "orientation": "horizontal",
      "readout": true,
      "readout_format": "d",
      "step": 1,
      "style": "IPY_MODEL_bd59c99fa9514759b95a5a4d98db8b7d",
      "value": 1
     }
    },
    "f89c2920777e4b4a87540eeb032144f5": {
     "model_module": "@jupyter-widgets/controls",
     "model_module_version": "1.5.0",
     "model_name": "DescriptionStyleModel",
     "state": {
      "_model_module": "@jupyter-widgets/controls",
      "_model_module_version": "1.5.0",
      "_model_name": "DescriptionStyleModel",
      "_view_count": null,
      "_view_module": "@jupyter-widgets/base",
      "_view_module_version": "1.2.0",
      "_view_name": "StyleView",
      "description_width": ""
     }
    }
   }
  }
 },
 "nbformat": 4,
 "nbformat_minor": 0
}
